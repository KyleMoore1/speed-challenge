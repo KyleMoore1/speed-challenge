{
 "cells": [
  {
   "cell_type": "code",
   "execution_count": 3,
   "metadata": {},
   "outputs": [],
   "source": [
    "#imports\n",
    "import glob\n",
    "import numpy as np\n",
    "import pandas as pd\n",
    "import matplotlib.pyplot as plt\n",
    "import matplotlib.image as mpimg\n",
    "import os\n",
    "import csv\n",
    "import cv2\n",
    "import seaborn as sns\n",
    "from tqdm import tqdm\n",
    "%matplotlib inline"
   ]
  },
  {
   "cell_type": "code",
   "execution_count": 25,
   "metadata": {},
   "outputs": [
    {
     "name": "stdout",
     "output_type": "stream",
     "text": [
      "./data/VIDEO/train.mp4\n"
     ]
    }
   ],
   "source": [
    "# constants\n",
    "DATA_PATH = './data'\n",
    "TRAIN_VIDEO = './data/VIDEO/train.mp4'\n",
    "print(TRAIN_VIDEO)\n",
    "TEST_VIDEO = './data/VIDEO/test.mp4'\n",
    "TRAIN_FRAMES_RAW = './data/IMG/train_raw/'\n",
    "TEST_FRAMES_RAW = './data/IMG/test_raw/'\n",
    "TRAIN_FRAMES_CROPPED = './data/IMG/train_cropped/'\n",
    "TRAIN_FRAMES = './data/IMG/train/'\n",
    "TEST_FRAMES = './data/IMG/test/'\n",
    "OPT_ACC = './data/IMG/opt_acc/'\n",
    "OPT_ACC_TEST = './data/IMG/opt_acc_test/'\n",
    "train_frames = 20400\n",
    "test_frames = 10798"
   ]
  },
  {
   "cell_type": "markdown",
   "metadata": {},
   "source": [
    "# Data Preparation"
   ]
  },
  {
   "cell_type": "code",
   "execution_count": 219,
   "metadata": {},
   "outputs": [],
   "source": [
    "#grabbing frames and saving to folder\n",
    "def save_frames(video, save_loc):\n",
    "    vidcap = cv2.VideoCapture(video)\n",
    "    success,image = vidcap.read()\n",
    "    count = 0\n",
    "    while success:\n",
    "      cv2.imwrite(save_loc + \"frame%d.jpg\" % count, image)     # save frame as JPEG file      \n",
    "      success,image = vidcap.read()\n",
    "      count += 1"
   ]
  },
  {
   "cell_type": "code",
   "execution_count": 213,
   "metadata": {},
   "outputs": [],
   "source": [
    "save_frames(TRAIN_VIDEO, TRAIN_FRAMES_RAW)"
   ]
  },
  {
   "cell_type": "code",
   "execution_count": 220,
   "metadata": {},
   "outputs": [],
   "source": [
    "save_frames(TEST_VIDEO, TEST_FRAMES_RAW)"
   ]
  },
  {
   "cell_type": "markdown",
   "metadata": {},
   "source": [
    "# Augmentation Functions"
   ]
  },
  {
   "cell_type": "code",
   "execution_count": 7,
   "metadata": {},
   "outputs": [],
   "source": [
    "def crop_image(path):\n",
    "    img = cv2.imread(path)\n",
    "    crop_img = img[25:375, :]\n",
    "    crop_img = cv2.resize(crop_img, (220, 66), interpolation = cv2.INTER_AREA)\n",
    "    img_rgb = cv2.cvtColor(crop_img, cv2.COLOR_BGR2RGB)\n",
    "    return img_rgb"
   ]
  },
  {
   "cell_type": "code",
   "execution_count": 29,
   "metadata": {},
   "outputs": [],
   "source": [
    "def adjust_brightness(img, bright_factor):\n",
    "    hsv_image = cv2.cvtColor(image, cv2.COLOR_RGB2HSV)\n",
    "    hsv_image[:,:,2] = hsv_image[:,:,2] * bright_factor\n",
    "    image_rgb = cv2.cvtColor(hsv_image, cv2.COLOR_HSV2RGB)\n",
    "    return image_rgb\n",
    "    "
   ]
  },
  {
   "cell_type": "code",
   "execution_count": 6,
   "metadata": {},
   "outputs": [],
   "source": [
    "def opticalFlowDense(image_current, image_next):\n",
    "    \"\"\"\n",
    "    input: image_current, image_next (RGB images)\n",
    "    calculates optical flow magnitude and angle and places it into HSV image\n",
    "    * Set the saturation to the saturation value of image_next\n",
    "    * Set the hue to the angles returned from computing the flow params\n",
    "    * set the value to the magnitude returned from computing the flow params\n",
    "    * Convert from HSV to RGB and return RGB image with same size as original image\n",
    "    \"\"\"\n",
    "    gray_current = cv2.cvtColor(image_current, cv2.COLOR_RGB2GRAY)\n",
    "    gray_next = cv2.cvtColor(image_next, cv2.COLOR_RGB2GRAY)\n",
    "    \n",
    "    \n",
    "    hsv = np.zeros((66, 220, 3))\n",
    "    # set saturation\n",
    "    hsv[:,:,1] = cv2.cvtColor(image_next, cv2.COLOR_RGB2HSV)[:,:,1]\n",
    " \n",
    "    # Flow Parameters\n",
    "#     flow_mat = cv2.CV_32FC2\n",
    "    flow_mat = None\n",
    "    image_scale = 0.5\n",
    "    nb_images = 1\n",
    "    win_size = 15\n",
    "    nb_iterations = 2\n",
    "    deg_expansion = 5\n",
    "    STD = 1.3\n",
    "    extra = 0\n",
    "\n",
    "    # obtain dense optical flow paramters\n",
    "    flow = cv2.calcOpticalFlowFarneback(gray_current, gray_next,  \n",
    "                                        flow_mat, \n",
    "                                        image_scale, \n",
    "                                        nb_images, \n",
    "                                        win_size, \n",
    "                                        nb_iterations, \n",
    "                                        deg_expansion, \n",
    "                                        STD, \n",
    "                                        0)\n",
    "                                        \n",
    "        \n",
    "    # convert from cartesian to polar\n",
    "    mag, ang = cv2.cartToPolar(flow[..., 0], flow[..., 1])  \n",
    "        \n",
    "    # hue corresponds to direction\n",
    "    hsv[:,:,0] = ang * (180/ np.pi / 2)\n",
    "    \n",
    "    # value corresponds to magnitude\n",
    "    hsv[:,:,2] = cv2.normalize(mag,None,0,255,cv2.NORM_MINMAX)\n",
    "    \n",
    "    # convert HSV to float32's\n",
    "    hsv = np.asarray(hsv, dtype= np.float32)\n",
    "    rgb_flow = cv2.cvtColor(hsv,cv2.COLOR_HSV2RGB)\n",
    "\n",
    "    \n",
    "    return rgb_flow"
   ]
  },
  {
   "cell_type": "markdown",
   "metadata": {},
   "source": [
    "## Testing Optical Flow"
   ]
  },
  {
   "cell_type": "code",
   "execution_count": null,
   "metadata": {
    "scrolled": false
   },
   "outputs": [],
   "source": [
    "# test method for augmentation here\n",
    "i = 0\n",
    "while i < 5:\n",
    "    img_1 = crop_image(TEST_FRAMES_RAW + f'frame{i}.jpg')\n",
    "    img_2 = crop_image(TEST_FRAMES_RAW + f'frame{i+1}.jpg')\n",
    "    opt_flow = opticalFlowDense(img_1,img_2)\n",
    "    plt.figure(figsize = (10, 20))\n",
    "    plt.imshow(img_1)\n",
    "    plt.figure(figsize = (10, 20))\n",
    "    plt.imshow(img_2)\n",
    "    plt.figure(figsize = (10, 20))\n",
    "    plt.imshow(opt_flow)\n",
    "    i += 1\n",
    "plt.show()"
   ]
  },
  {
   "cell_type": "markdown",
   "metadata": {},
   "source": [
    "# Creating Test Set"
   ]
  },
  {
   "cell_type": "code",
   "execution_count": 15,
   "metadata": {},
   "outputs": [],
   "source": [
    "def save_test(save_loc):\n",
    "    for i in range(0,10797):\n",
    "        frame_cur = crop_image(TEST_FRAMES_RAW + f'frame{i}.jpg')\n",
    "        frame_next = crop_image(TEST_FRAMES_RAW + f'frame{i + 1}.jpg')\n",
    "        opt_flow = opticalFlowDense(frame_cur,frame_next)\n",
    "        cv2.imwrite(save_loc + f\"frame{i}.jpg\", opt_flow)\n",
    "        \n",
    "    "
   ]
  },
  {
   "cell_type": "code",
   "execution_count": null,
   "metadata": {},
   "outputs": [],
   "source": [
    "save_test(TEST_FRAMES)"
   ]
  },
  {
   "cell_type": "markdown",
   "metadata": {},
   "source": [
    "# Creating CSV for Testing Set"
   ]
  },
  {
   "cell_type": "code",
   "execution_count": 28,
   "metadata": {},
   "outputs": [],
   "source": [
    "#make filenames\n",
    "filenames = []\n",
    "frame_id = []\n",
    "for i in range(0,test_frames):\n",
    "    filenames.append('opt_acc_test/' + f\"frame{i}.jpg\")\n",
    "    frame_id.append(i)\n",
    "\n",
    "df = pd.DataFrame({'filename':filenames, 'frame_id': frame_id})\n",
    "df.drop(df.tail(1).index,inplace=True)\n",
    "df.to_csv('test-acc.csv')"
   ]
  },
  {
   "cell_type": "markdown",
   "metadata": {},
   "source": [
    "# Creating Train Set"
   ]
  },
  {
   "cell_type": "code",
   "execution_count": null,
   "metadata": {},
   "outputs": [],
   "source": [
    "def save_train(save_loc):\n",
    "    for i in range(0,10797):\n",
    "        frame_cur = crop_image(TRAIN_FRAMES_RAW + f'frame{i}.jpg')\n",
    "        frame_next = crop_image(TRAIN_FRAMES_RAW + f'frame{i + 1}.jpg')\n",
    "        opt_flow = opticalFlowDense(frame_cur,frame_next)\n",
    "        cv2.imwrite(save_loc + f\"frame{i}.jpg\", opt_flow)"
   ]
  },
  {
   "cell_type": "code",
   "execution_count": null,
   "metadata": {},
   "outputs": [],
   "source": [
    "save_train(TRAIN_FRAMES)"
   ]
  },
  {
   "cell_type": "markdown",
   "metadata": {},
   "source": [
    "# Creating CSV for Train Set"
   ]
  },
  {
   "cell_type": "code",
   "execution_count": 143,
   "metadata": {},
   "outputs": [],
   "source": [
    "#make velocity column\n",
    "velocity = np.loadtxt('./data/OUTPUT/train.txt')\n",
    "\n",
    "#make filename and \n",
    "filenames = []\n",
    "frame_id = []\n",
    "for i in range(0,20400):\n",
    "    filenames.append('train/' + f\"frame{i}.jpg\")\n",
    "    frame_id.append(i)\n",
    "\n",
    "#make valid set\n",
    "np.random.seed(1000)\n",
    "is_valid = []\n",
    "for i in range(0,20400):\n",
    "    randInt = np.random.randint(9)\n",
    "    if (randInt >= 1):\n",
    "        is_valid.append(False)\n",
    "    else:\n",
    "        is_valid.append(True)"
   ]
  },
  {
   "cell_type": "code",
   "execution_count": 201,
   "metadata": {},
   "outputs": [],
   "source": [
    "df = pd.DataFrame({'filename':filenames, 'frame_id': frame_id, 'velocity': velocity, 'is_valid': is_valid})"
   ]
  },
  {
   "cell_type": "code",
   "execution_count": 202,
   "metadata": {},
   "outputs": [],
   "source": [
    "df.drop(df.tail(1).index,inplace=True)"
   ]
  },
  {
   "cell_type": "code",
   "execution_count": 203,
   "metadata": {},
   "outputs": [
    {
     "data": {
      "text/html": [
       "<div>\n",
       "<style scoped>\n",
       "    .dataframe tbody tr th:only-of-type {\n",
       "        vertical-align: middle;\n",
       "    }\n",
       "\n",
       "    .dataframe tbody tr th {\n",
       "        vertical-align: top;\n",
       "    }\n",
       "\n",
       "    .dataframe thead th {\n",
       "        text-align: right;\n",
       "    }\n",
       "</style>\n",
       "<table border=\"1\" class=\"dataframe\">\n",
       "  <thead>\n",
       "    <tr style=\"text-align: right;\">\n",
       "      <th></th>\n",
       "      <th>filename</th>\n",
       "      <th>frame_id</th>\n",
       "      <th>velocity</th>\n",
       "      <th>is_valid</th>\n",
       "    </tr>\n",
       "  </thead>\n",
       "  <tbody>\n",
       "    <tr>\n",
       "      <th>0</th>\n",
       "      <td>train/frame0.jpg</td>\n",
       "      <td>0</td>\n",
       "      <td>28.105569</td>\n",
       "      <td>False</td>\n",
       "    </tr>\n",
       "    <tr>\n",
       "      <th>1</th>\n",
       "      <td>train/frame1.jpg</td>\n",
       "      <td>1</td>\n",
       "      <td>28.105569</td>\n",
       "      <td>False</td>\n",
       "    </tr>\n",
       "    <tr>\n",
       "      <th>2</th>\n",
       "      <td>train/frame2.jpg</td>\n",
       "      <td>2</td>\n",
       "      <td>28.106527</td>\n",
       "      <td>False</td>\n",
       "    </tr>\n",
       "    <tr>\n",
       "      <th>3</th>\n",
       "      <td>train/frame3.jpg</td>\n",
       "      <td>3</td>\n",
       "      <td>28.130404</td>\n",
       "      <td>True</td>\n",
       "    </tr>\n",
       "    <tr>\n",
       "      <th>4</th>\n",
       "      <td>train/frame4.jpg</td>\n",
       "      <td>4</td>\n",
       "      <td>28.109243</td>\n",
       "      <td>False</td>\n",
       "    </tr>\n",
       "    <tr>\n",
       "      <th>...</th>\n",
       "      <td>...</td>\n",
       "      <td>...</td>\n",
       "      <td>...</td>\n",
       "      <td>...</td>\n",
       "    </tr>\n",
       "    <tr>\n",
       "      <th>20394</th>\n",
       "      <td>train/frame20394.jpg</td>\n",
       "      <td>20394</td>\n",
       "      <td>2.364811</td>\n",
       "      <td>False</td>\n",
       "    </tr>\n",
       "    <tr>\n",
       "      <th>20395</th>\n",
       "      <td>train/frame20395.jpg</td>\n",
       "      <td>20395</td>\n",
       "      <td>2.329180</td>\n",
       "      <td>False</td>\n",
       "    </tr>\n",
       "    <tr>\n",
       "      <th>20396</th>\n",
       "      <td>train/frame20396.jpg</td>\n",
       "      <td>20396</td>\n",
       "      <td>2.289795</td>\n",
       "      <td>False</td>\n",
       "    </tr>\n",
       "    <tr>\n",
       "      <th>20397</th>\n",
       "      <td>train/frame20397.jpg</td>\n",
       "      <td>20397</td>\n",
       "      <td>2.292917</td>\n",
       "      <td>False</td>\n",
       "    </tr>\n",
       "    <tr>\n",
       "      <th>20398</th>\n",
       "      <td>train/frame20398.jpg</td>\n",
       "      <td>20398</td>\n",
       "      <td>2.260600</td>\n",
       "      <td>False</td>\n",
       "    </tr>\n",
       "  </tbody>\n",
       "</table>\n",
       "<p>20399 rows × 4 columns</p>\n",
       "</div>"
      ],
      "text/plain": [
       "                   filename  frame_id   velocity  is_valid\n",
       "0          train/frame0.jpg         0  28.105569     False\n",
       "1          train/frame1.jpg         1  28.105569     False\n",
       "2          train/frame2.jpg         2  28.106527     False\n",
       "3          train/frame3.jpg         3  28.130404      True\n",
       "4          train/frame4.jpg         4  28.109243     False\n",
       "...                     ...       ...        ...       ...\n",
       "20394  train/frame20394.jpg     20394   2.364811     False\n",
       "20395  train/frame20395.jpg     20395   2.329180     False\n",
       "20396  train/frame20396.jpg     20396   2.289795     False\n",
       "20397  train/frame20397.jpg     20397   2.292917     False\n",
       "20398  train/frame20398.jpg     20398   2.260600     False\n",
       "\n",
       "[20399 rows x 4 columns]"
      ]
     },
     "execution_count": 203,
     "metadata": {},
     "output_type": "execute_result"
    }
   ],
   "source": [
    "df"
   ]
  },
  {
   "cell_type": "code",
   "execution_count": 206,
   "metadata": {},
   "outputs": [],
   "source": [
    "df.to_csv('train.csv')"
   ]
  },
  {
   "cell_type": "code",
   "execution_count": 234,
   "metadata": {},
   "outputs": [
    {
     "data": {
      "text/plain": [
       "[<matplotlib.lines.Line2D at 0x16e065090>]"
      ]
     },
     "execution_count": 234,
     "metadata": {},
     "output_type": "execute_result"
    },
    {
     "data": {
      "image/png": "[encoded data removed]",
      "text/plain": [
       "<Figure size 432x288 with 1 Axes>"
      ]
     },
     "metadata": {
      "needs_background": "light"
     },
     "output_type": "display_data"
    }
   ],
   "source": [
    "plt.plot(df['frame_id'], df['velocity'])"
   ]
  },
  {
   "cell_type": "markdown",
   "metadata": {},
   "source": [
    "# Preparing Acceleration Dataset\n",
    "\n",
    "I made this dataset where I concatenate optical acceleration to the bottom of the optical flow. I did this to combat my model's poor performance on rapid changes in speed. "
   ]
  },
  {
   "cell_type": "code",
   "execution_count": 264,
   "metadata": {},
   "outputs": [],
   "source": [
    "def save_train_acc(save_loc):\n",
    "    for i in range(1,20399):\n",
    "        frame_prev = crop_image(TRAIN_FRAMES_RAW + f'frame{i - 1}.jpg')\n",
    "        frame_cur = crop_image(TRAIN_FRAMES_RAW + f'frame{i}.jpg')\n",
    "        frame_next = crop_image(TRAIN_FRAMES_RAW + f'frame{i + 1}.jpg')\n",
    "        opt_flow_1 = opticalFlowDense(frame_prev,frame_cur)\n",
    "        opt_flow_2 = opticalFlowDense(frame_cur,frame_next)\n",
    "        opt_acc = opticalFlowDense(opt_flow_1, opt_flow_2)\n",
    "        out = np.concatenate((opt_flow_2, opt_acc), axis=0)\n",
    "        cv2.imwrite(save_loc + f\"frame{i}.jpg\", out)"
   ]
  },
  {
   "cell_type": "code",
   "execution_count": 265,
   "metadata": {},
   "outputs": [],
   "source": [
    "save_train_acc(OPT_ACC)"
   ]
  },
  {
   "cell_type": "markdown",
   "metadata": {},
   "source": [
    "# Making CSV for Train Acceleration Set"
   ]
  },
  {
   "cell_type": "code",
   "execution_count": 268,
   "metadata": {},
   "outputs": [],
   "source": [
    "#make velocity column\n",
    "velocity = np.loadtxt('./output/train.txt')\n",
    "\n",
    "#make filename and \n",
    "filenames = []\n",
    "frame_id = []\n",
    "for i in range(0,20400):\n",
    "    filenames.append('train_acc/' + f\"frame{i}.jpg\")\n",
    "    frame_id.append(i)\n",
    "\n",
    "#make valid set\n",
    "np.random.seed(1000)\n",
    "is_valid = []\n",
    "for i in range(0,20400):\n",
    "    randInt = np.random.randint(9)\n",
    "    if (randInt >= 1):\n",
    "        is_valid.append(False)\n",
    "    else:\n",
    "        is_valid.append(True)"
   ]
  },
  {
   "cell_type": "code",
   "execution_count": 272,
   "metadata": {},
   "outputs": [
    {
     "data": {
      "text/html": [
       "<div>\n",
       "<style scoped>\n",
       "    .dataframe tbody tr th:only-of-type {\n",
       "        vertical-align: middle;\n",
       "    }\n",
       "\n",
       "    .dataframe tbody tr th {\n",
       "        vertical-align: top;\n",
       "    }\n",
       "\n",
       "    .dataframe thead th {\n",
       "        text-align: right;\n",
       "    }\n",
       "</style>\n",
       "<table border=\"1\" class=\"dataframe\">\n",
       "  <thead>\n",
       "    <tr style=\"text-align: right;\">\n",
       "      <th></th>\n",
       "      <th>filename</th>\n",
       "      <th>frame_id</th>\n",
       "      <th>velocity</th>\n",
       "      <th>is_valid</th>\n",
       "    </tr>\n",
       "  </thead>\n",
       "  <tbody>\n",
       "    <tr>\n",
       "      <th>0</th>\n",
       "      <td>train_acc/frame0.jpg</td>\n",
       "      <td>0</td>\n",
       "      <td>28.105569</td>\n",
       "      <td>False</td>\n",
       "    </tr>\n",
       "    <tr>\n",
       "      <th>1</th>\n",
       "      <td>train_acc/frame1.jpg</td>\n",
       "      <td>1</td>\n",
       "      <td>28.105569</td>\n",
       "      <td>False</td>\n",
       "    </tr>\n",
       "    <tr>\n",
       "      <th>2</th>\n",
       "      <td>train_acc/frame2.jpg</td>\n",
       "      <td>2</td>\n",
       "      <td>28.106527</td>\n",
       "      <td>False</td>\n",
       "    </tr>\n",
       "    <tr>\n",
       "      <th>3</th>\n",
       "      <td>train_acc/frame3.jpg</td>\n",
       "      <td>3</td>\n",
       "      <td>28.130404</td>\n",
       "      <td>True</td>\n",
       "    </tr>\n",
       "    <tr>\n",
       "      <th>4</th>\n",
       "      <td>train_acc/frame4.jpg</td>\n",
       "      <td>4</td>\n",
       "      <td>28.109243</td>\n",
       "      <td>False</td>\n",
       "    </tr>\n",
       "  </tbody>\n",
       "</table>\n",
       "</div>"
      ],
      "text/plain": [
       "               filename  frame_id   velocity  is_valid\n",
       "0  train_acc/frame0.jpg         0  28.105569     False\n",
       "1  train_acc/frame1.jpg         1  28.105569     False\n",
       "2  train_acc/frame2.jpg         2  28.106527     False\n",
       "3  train_acc/frame3.jpg         3  28.130404      True\n",
       "4  train_acc/frame4.jpg         4  28.109243     False"
      ]
     },
     "execution_count": 272,
     "metadata": {},
     "output_type": "execute_result"
    }
   ],
   "source": [
    "df = pd.DataFrame({'filename':filenames, 'frame_id': frame_id, 'velocity': velocity, 'is_valid': is_valid})\n",
    "df.head()"
   ]
  },
  {
   "cell_type": "code",
   "execution_count": 273,
   "metadata": {},
   "outputs": [],
   "source": [
    "df.drop(df.tail(1).index,inplace=True)\n",
    "df.drop(df.head(1).index,inplace=True)"
   ]
  },
  {
   "cell_type": "code",
   "execution_count": 274,
   "metadata": {},
   "outputs": [
    {
     "data": {
      "text/html": [
       "<div>\n",
       "<style scoped>\n",
       "    .dataframe tbody tr th:only-of-type {\n",
       "        vertical-align: middle;\n",
       "    }\n",
       "\n",
       "    .dataframe tbody tr th {\n",
       "        vertical-align: top;\n",
       "    }\n",
       "\n",
       "    .dataframe thead th {\n",
       "        text-align: right;\n",
       "    }\n",
       "</style>\n",
       "<table border=\"1\" class=\"dataframe\">\n",
       "  <thead>\n",
       "    <tr style=\"text-align: right;\">\n",
       "      <th></th>\n",
       "      <th>filename</th>\n",
       "      <th>frame_id</th>\n",
       "      <th>velocity</th>\n",
       "      <th>is_valid</th>\n",
       "    </tr>\n",
       "  </thead>\n",
       "  <tbody>\n",
       "    <tr>\n",
       "      <th>1</th>\n",
       "      <td>train_acc/frame1.jpg</td>\n",
       "      <td>1</td>\n",
       "      <td>28.105569</td>\n",
       "      <td>False</td>\n",
       "    </tr>\n",
       "    <tr>\n",
       "      <th>2</th>\n",
       "      <td>train_acc/frame2.jpg</td>\n",
       "      <td>2</td>\n",
       "      <td>28.106527</td>\n",
       "      <td>False</td>\n",
       "    </tr>\n",
       "    <tr>\n",
       "      <th>3</th>\n",
       "      <td>train_acc/frame3.jpg</td>\n",
       "      <td>3</td>\n",
       "      <td>28.130404</td>\n",
       "      <td>True</td>\n",
       "    </tr>\n",
       "    <tr>\n",
       "      <th>4</th>\n",
       "      <td>train_acc/frame4.jpg</td>\n",
       "      <td>4</td>\n",
       "      <td>28.109243</td>\n",
       "      <td>False</td>\n",
       "    </tr>\n",
       "    <tr>\n",
       "      <th>5</th>\n",
       "      <td>train_acc/frame5.jpg</td>\n",
       "      <td>5</td>\n",
       "      <td>28.088572</td>\n",
       "      <td>True</td>\n",
       "    </tr>\n",
       "    <tr>\n",
       "      <th>...</th>\n",
       "      <td>...</td>\n",
       "      <td>...</td>\n",
       "      <td>...</td>\n",
       "      <td>...</td>\n",
       "    </tr>\n",
       "    <tr>\n",
       "      <th>20394</th>\n",
       "      <td>train_acc/frame20394.jpg</td>\n",
       "      <td>20394</td>\n",
       "      <td>2.364811</td>\n",
       "      <td>False</td>\n",
       "    </tr>\n",
       "    <tr>\n",
       "      <th>20395</th>\n",
       "      <td>train_acc/frame20395.jpg</td>\n",
       "      <td>20395</td>\n",
       "      <td>2.329180</td>\n",
       "      <td>False</td>\n",
       "    </tr>\n",
       "    <tr>\n",
       "      <th>20396</th>\n",
       "      <td>train_acc/frame20396.jpg</td>\n",
       "      <td>20396</td>\n",
       "      <td>2.289795</td>\n",
       "      <td>False</td>\n",
       "    </tr>\n",
       "    <tr>\n",
       "      <th>20397</th>\n",
       "      <td>train_acc/frame20397.jpg</td>\n",
       "      <td>20397</td>\n",
       "      <td>2.292917</td>\n",
       "      <td>False</td>\n",
       "    </tr>\n",
       "    <tr>\n",
       "      <th>20398</th>\n",
       "      <td>train_acc/frame20398.jpg</td>\n",
       "      <td>20398</td>\n",
       "      <td>2.260600</td>\n",
       "      <td>False</td>\n",
       "    </tr>\n",
       "  </tbody>\n",
       "</table>\n",
       "<p>20398 rows × 4 columns</p>\n",
       "</div>"
      ],
      "text/plain": [
       "                       filename  frame_id   velocity  is_valid\n",
       "1          train_acc/frame1.jpg         1  28.105569     False\n",
       "2          train_acc/frame2.jpg         2  28.106527     False\n",
       "3          train_acc/frame3.jpg         3  28.130404      True\n",
       "4          train_acc/frame4.jpg         4  28.109243     False\n",
       "5          train_acc/frame5.jpg         5  28.088572      True\n",
       "...                         ...       ...        ...       ...\n",
       "20394  train_acc/frame20394.jpg     20394   2.364811     False\n",
       "20395  train_acc/frame20395.jpg     20395   2.329180     False\n",
       "20396  train_acc/frame20396.jpg     20396   2.289795     False\n",
       "20397  train_acc/frame20397.jpg     20397   2.292917     False\n",
       "20398  train_acc/frame20398.jpg     20398   2.260600     False\n",
       "\n",
       "[20398 rows x 4 columns]"
      ]
     },
     "execution_count": 274,
     "metadata": {},
     "output_type": "execute_result"
    }
   ],
   "source": [
    "df"
   ]
  },
  {
   "cell_type": "code",
   "execution_count": 275,
   "metadata": {},
   "outputs": [],
   "source": [
    "df.to_csv('train_acc.csv')"
   ]
  },
  {
   "cell_type": "markdown",
   "metadata": {},
   "source": [
    "# Preparing Test Acceleration Set "
   ]
  },
  {
   "cell_type": "code",
   "execution_count": 26,
   "metadata": {},
   "outputs": [],
   "source": [
    "def save_augmented_acc(save_loc):\n",
    "    for i in range(1,test_frames - 1):\n",
    "        frame_prev = crop_image(TEST_FRAMES_RAW + f'frame{i - 1}.jpg')\n",
    "        frame_cur = crop_image(TEST_FRAMES_RAW + f'frame{i}.jpg')\n",
    "        frame_next = crop_image(TEST_FRAMES_RAW + f'frame{i + 1}.jpg')\n",
    "        opt_flow_1 = opticalFlowDense(frame_prev,frame_cur)\n",
    "        opt_flow_2 = opticalFlowDense(frame_cur,frame_next)\n",
    "        opt_acc = opticalFlowDense(opt_flow_1, opt_flow_2)\n",
    "        out = np.concatenate((opt_flow_2, opt_acc), axis=0)\n",
    "        cv2.imwrite(save_loc + f\"frame{i}.jpg\", out)"
   ]
  },
  {
   "cell_type": "code",
   "execution_count": 27,
   "metadata": {},
   "outputs": [],
   "source": [
    "save_augmented_acc(OPT_ACC_TEST)"
   ]
  },
  {
   "cell_type": "code",
   "execution_count": null,
   "metadata": {},
   "outputs": [],
   "source": []
  }
 ],
 "metadata": {
  "kernelspec": {
   "display_name": "Python 3",
   "language": "python",
   "name": "python3"
  },
  "language_info": {
   "codemirror_mode": {
    "name": "ipython",
    "version": 3
   },
   "file_extension": ".py",
   "mimetype": "text/x-python",
   "name": "python",
   "nbconvert_exporter": "python",
   "pygments_lexer": "ipython3",
   "version": "3.7.5"
  }
 },
 "nbformat": 4,
 "nbformat_minor": 2
}
